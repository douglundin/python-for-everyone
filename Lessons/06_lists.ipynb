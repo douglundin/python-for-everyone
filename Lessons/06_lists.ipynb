{
 "cells": [
  {
   "cell_type": "markdown",
   "source": [
    "# Lists \n",
    "\n",
    "So far the variables we've worked with hold a single item of data (one integer, one string, etc.) called *scalar* variables. A *list* in Python is a variable that can hold any number of items. The values are held *in order*. Think of my to-do list: \n",
    "\n",
    "1. Eat\n",
    "2. Sleep \n",
    "3. Program\n",
    "4. Repeat \n",
    "\n",
    "A list variable gives us the ability to hold all four values in a single variable. Think of it like this:\n",
    "\n",
    "![Image of todo_list](images/python_list.png)\n",
    "\n",
    "Notice that the first item in the list is **index zero**. In this lecture you'll learn how to create, use and change (or *mutate*) lists. \n",
    "\n",
    "## Create a List Variable\n",
    "\n",
    "A list variable is a way to hold those data items together. Here's an example where I define a list variable called `todo_list` that contains strings:\n",
    "\n",
    "```python\n",
    "todo_list = [\"Eat\", \"Sleep\", \"Program\", \"Repeat\"]\n",
    "```\n",
    "\n",
    "Enter my `todo_list` into the next cell and print it:"
   ],
   "metadata": {
    "collapsed": false
   }
  },
  {
   "cell_type": "raw",
   "source": [],
   "metadata": {
    "collapsed": false
   }
  },
  {
   "cell_type": "markdown",
   "metadata": {},
   "source": [
    "A list can have any number of elements (millions and billions!). Here's an extended todo list:\n",
    "\n",
    "```python\n",
    "todo_list = [\"Eat\", \"Sleep\", \"Eat Again\", \"Eat More\", \"Nap\", \"Program\", \"Repeat\"]\n",
    "```\n",
    "\n",
    "A list can have *no items* too. Here's an empty list:\n",
    "\n",
    "```python\n",
    "todo_list = [] \n",
    "```\n",
    "\n",
    "Lists are they're own type in Python. Type this example into the next cell:\n",
    "\n",
    "```python\n",
    "print(type(todo_list))\n",
    "```"
   ]
  },
  {
   "cell_type": "code",
   "execution_count": null,
   "metadata": {},
   "outputs": [],
   "source": []
  },
  {
   "cell_type": "markdown",
   "metadata": {},
   "source": [
    "**What type is the list?**\n",
    "\n",
    "Lists can also be created using by conversion. For example you can create an empty list like this: \n",
    "\n",
    "```python\n",
    "todo_list = list()\n",
    "```\n",
    "\n",
    "The conversion syntax will be more important later. For now we'll use square brackets `[` and `]`."
   ]
  },
  {
   "cell_type": "markdown",
   "metadata": {},
   "source": [
    "## Accessing List Elements\n",
    "\n",
    "A list variable gives you access to individual elements in the list. You can use elements just like any other with square brackets (`[` and `]`). When you use a list variable you have to choose, do you want to sue the *whole list* or just *one element*. For example:\n",
    "\n",
    "```python\n",
    "print(todo_list)      # Print the whole list\n",
    "print(todo_list[0])   # Print the firt element \n",
    "```\n",
    "\n",
    "Try both print statement in the next cell:"
   ]
  },
  {
   "cell_type": "code",
   "execution_count": null,
   "metadata": {},
   "outputs": [],
   "source": []
  },
  {
   "cell_type": "markdown",
   "metadata": {},
   "source": [
    "**Lists indexes start at zero!** Element `[0]` of the list is the first element. It takes a little getting used to but it makes many things easier to program when lists start at zero. \n",
    "\n",
    "<div class=\"alert alert-warning\"><strong>Important!</strong>\n",
    "\n",
    "I will ask you questions about lists using precise language so that you know exactly what index to use. Here's what I'll say:\n",
    "\n",
    "- **\"Index n\"** means the exact index. For example: \n",
    "    - \"Print index three of `todo_list`,\" means `print(todo_list[3])`.\n",
    "- **\"The n-th element of...\"** means that *n* is the index plus one. For example:\n",
    "    - \"Print the third element of `todo_list`,\" means `print(todo_list[2])`\n",
    "</div>"
   ]
  },
  {
   "cell_type": "markdown",
   "metadata": {},
   "source": [
    "A single list element can be used just like any of the variables you've written so far, variables that conatin a single value. You can assign list elements too. When you do the list is changed. Here's an example of you you change a list element:\n",
    "\n",
    "```python\n",
    "todo_list = [\"Eat\", \"Sleep\", \"Program\", \"Repeat\"]\n",
    "todo_list[0] = 'Wake up'\n",
    "print(todo_list)\n",
    "```\n",
    "\n",
    "Enter the example into the next cell: "
   ]
  },
  {
   "cell_type": "code",
   "execution_count": null,
   "metadata": {},
   "outputs": [],
   "source": []
  },
  {
   "cell_type": "markdown",
   "metadata": {},
   "source": [
    "**Try changing the element index. Do you see how the list changes?**"
   ]
  },
  {
   "cell_type": "markdown",
   "metadata": {},
   "source": [
    "## Adding and Removing Elements \n",
    "\n",
    "Lists can have any number of elements. You can add elements using the `append` and `insert` functions and remove them with the `remove` function and `del` operator. Why are `append`, `insert` and `remove` *functions* and `del` an *operator*? The answer is a bit complicated, but in short `append`, `insert` and `remove` are specific to a `list`, `del` works on lists and other data types too so it's more generic.\n",
    "\n",
    "### The `append` Function\n",
    "\n",
    "The `append` function adds an item to the end of the list. For example: \n",
    "\n",
    "```python \n",
    "todo_list = [] # Start with an empty list.\n",
    "todo_list.append('Eat')\n",
    "todo_list.append('Sleep')\n",
    "todo_list.append('Program')\n",
    "todo_list.append('Repeat')\n",
    "print(todo_list)\n",
    "```\n",
    "\n",
    "Type the code into the next cell."
   ]
  },
  {
   "cell_type": "code",
   "execution_count": null,
   "metadata": {},
   "outputs": [],
   "source": []
  },
  {
   "cell_type": "markdown",
   "metadata": {},
   "source": [
    "**Run the debugger to watch the list change!**\n",
    "\n",
    "### The `insert` Function \n",
    "\n",
    "The `insert` function adds an element to the list in any place you like. Calling `insert` displaces existing elements which are moved to the next index. Think of it as them moving to the right. For example: \n",
    "\n",
    "```python\n",
    "todo_list = ['Sleep', 'Repeat']\n",
    "todo_list.insert(1, \"Program\") # Moves 'Repeat' over. \n",
    "todo_list.insert(0, \"Eat\") # Puts this on the front, moving everything over.\n",
    "print(todo_list)\n",
    "```\n",
    "\n",
    "Try entering in the statements:"
   ]
  },
  {
   "cell_type": "code",
   "execution_count": null,
   "metadata": {},
   "outputs": [],
   "source": []
  },
  {
   "cell_type": "markdown",
   "metadata": {},
   "source": [
    "**Can you predict the order after running this code?** Try running it in the debugger."
   ]
  },
  {
   "cell_type": "markdown",
   "metadata": {},
   "source": [
    "### The `del` Operator \n",
    "\n",
    "The `del` operator deletes an element from the list by index*. It looks a little different than `append` and `insert`. The `del` operator removes an element at a particular index making a gap. Remaining elements to the right move left to fill the gap (the opposite of what `insert` does). Here's an example of `del`:\n",
    "\n",
    "```python\n",
    "todo_list = ['Eat', 'Sleep', 'Work', 'Repeat']\n",
    "del todo_list[2] # No more Work!\n",
    "print(todo_list)\n",
    "```\n",
    "\n",
    "Type in the example:"
   ]
  },
  {
   "cell_type": "code",
   "execution_count": null,
   "metadata": {},
   "outputs": [],
   "source": []
  },
  {
   "cell_type": "markdown",
   "metadata": {},
   "source": [
    "### The `remove` Function \n",
    "\n",
    "The `remove` function removes an element from a list *by value*. You don't need to know the index of the thing you want to remove. Other than that it's jut like `del`, it moves the remaining elements over to the left. Here's an example of `remove`:\n",
    "\n",
    "```python\n",
    "todo_list = ['Eat', 'Sleep', 'Work', 'Repeat']\n",
    "todo_list.remove('Work') # No more Work!\n",
    "print(todo_list)\n",
    "```\n",
    "\n",
    "Try using the `remove` function in the next cell:"
   ]
  },
  {
   "cell_type": "code",
   "execution_count": null,
   "metadata": {},
   "outputs": [],
   "source": []
  },
  {
   "cell_type": "markdown",
   "metadata": {},
   "source": [
    "### The `clear` Function \n",
    "\n",
    "You delete *every* item in a list using the `clear()` function.\n",
    "\n",
    "```python\n",
    "todo_list = ['Eat', 'Sleep', 'Program', 'Repeat']\n",
    "todo_list.clear() # All done!\n",
    "print(todo_list)\n",
    "```"
   ]
  },
  {
   "cell_type": "code",
   "execution_count": null,
   "metadata": {},
   "outputs": [],
   "source": []
  },
  {
   "cell_type": "markdown",
   "metadata": {},
   "source": [
    "## Searching for Items With `in`\n",
    "\n",
    "You can ask Python to look for a particular value inside of a list with the `in` operator. The `in` operator returns `True` or `False`. For example:\n",
    "\n",
    "```python\n",
    "todo_list = ['Eat', 'Sleep', 'Program', 'Repeat']\n",
    "\"Eat\" in todo_list\n",
    "```\n",
    "\n",
    "Enter the example into the next cell:"
   ]
  },
  {
   "cell_type": "code",
   "execution_count": null,
   "metadata": {},
   "outputs": [],
   "source": []
  },
  {
   "cell_type": "markdown",
   "metadata": {},
   "source": [
    "**What happens if you search for another string, like `Laundry`?**\n",
    "\n",
    "You can modify `in` with `not` to get the opposite effect. Try that in the next cell:"
   ]
  },
  {
   "cell_type": "code",
   "execution_count": null,
   "metadata": {},
   "outputs": [],
   "source": []
  },
  {
   "cell_type": "markdown",
   "metadata": {},
   "source": [
    "It's very common to use `in` with an `if` statement. For example: \n",
    "\n",
    "```python\n",
    "todo_list = ['Eat', 'Sleep', 'Program', 'Repeat']\n",
    "if 'Eat' in todo_list:\n",
    "    print(\"Is it lunch time yet?\")\n",
    "else:\n",
    "    print(\"Have you forgotten dinner?\")\n",
    "```\n",
    "\n",
    "We'll cover `if` statements in a future lesson."
   ]
  },
  {
   "cell_type": "markdown",
   "metadata": {},
   "source": [
    "## List Length\n",
    "\n",
    "The `len` operator tells you the length of a list. You'll use it a lot! For example:\n",
    "\n",
    "```python\n",
    "todo_list = ['Eat', 'Sleep', 'Program', 'Repeat']\n",
    "print(\"Things to do:\", len(todo_list))\n",
    "```\n",
    "\n",
    "Try it yourself:"
   ]
  },
  {
   "cell_type": "code",
   "execution_count": null,
   "metadata": {},
   "outputs": [],
   "source": []
  },
  {
   "cell_type": "markdown",
   "metadata": {},
   "source": [
    "## `split` and `join`: Converting Between Lists and Strings\n",
    "\n",
    "It's very common to make a list from a string and vice-versa. For example, you have a sentence and you want to break it up into individual words. That's done witht the `split` function. Here's an example:\n",
    "\n",
    "```python\n",
    "sentence = \"Mary had a little lamb.\" \n",
    "words = sentence.split()\n",
    "print(words)\n",
    "```\n",
    "\n",
    "Try using `split`:"
   ]
  },
  {
   "cell_type": "code",
   "execution_count": null,
   "metadata": {},
   "outputs": [],
   "source": []
  },
  {
   "cell_type": "markdown",
   "metadata": {},
   "source": [
    "**Notice the period `.` is still in there!** The opposite of `split` is `join`. The `join` function takes a list and joins it together into a string. The `join` function is a little weird looking in Python becuase it operates on a *separator*. The separator is a character that is put in between the list items. Here's the reverse of the `split` from the last example:\n",
    "\n",
    "```python\n",
    "words = [\"Mary\", \"had\", \"a\", \"little\", \"lamb.\"] \n",
    "sentence = \" \".join(words)\n",
    "print(sentence)\n",
    "```\n",
    "\n",
    "Notice the `\" \"` that is used to join the list together. Try the example: \n"
   ]
  },
  {
   "cell_type": "code",
   "execution_count": null,
   "metadata": {},
   "outputs": [],
   "source": []
  },
  {
   "cell_type": "markdown",
   "metadata": {},
   "source": [
    "**What happens when you change what's in between the quotes?** "
   ]
  },
  {
   "cell_type": "markdown",
   "metadata": {},
   "source": [
    "## List Errors\n",
    "\n",
    "When you access an element that's beyond the end of the list you get an `IndexError` exception. Try this:\n",
    "\n",
    "```python\n",
    "todo_list = ['Eat', 'Sleep', 'Program', 'Repeat']\n",
    "print('The fifth item is:', todo_list[4])\n",
    "```"
   ]
  },
  {
   "cell_type": "code",
   "execution_count": null,
   "metadata": {},
   "outputs": [],
   "source": []
  },
  {
   "cell_type": "markdown",
   "metadata": {},
   "source": [
    "Notice the error. Remember it! You'll see it a lot!"
   ]
  }
 ],
 "metadata": {
  "interpreter": {
   "hash": "e545cfc6c92b001762a53a61423c49d13f273f2cd05f0ba531f4055e901e6403"
  },
  "kernelspec": {
   "display_name": "Python 3 (ipykernel)",
   "language": "python",
   "name": "python3"
  },
  "language_info": {
   "codemirror_mode": {
    "name": "ipython",
    "version": 3
   },
   "file_extension": ".py",
   "mimetype": "text/x-python",
   "name": "python",
   "nbconvert_exporter": "python",
   "pygments_lexer": "ipython3",
   "version": "3.10.6"
  }
 },
 "nbformat": 4,
 "nbformat_minor": 4
}
